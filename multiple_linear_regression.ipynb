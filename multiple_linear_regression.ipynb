{
 "cells": [
  {
   "cell_type": "code",
   "execution_count": null,
   "metadata": {},
   "outputs": [],
   "source": [
    "#multiple linear regression, R^2, adjusted R^2, predictor significance, hypothesis testing"
   ]
  },
  {
   "cell_type": "code",
   "execution_count": 2,
   "metadata": {},
   "outputs": [
    {
     "name": "stdout",
     "output_type": "stream",
     "text": [
      "True\n"
     ]
    }
   ],
   "source": [
    "#data in\n",
    "x = [\n",
    "    [13,13,14,14,16,16,19,19,18,17,16],\n",
    "    [67,61,64.5,72.5,72,63,72,66,60,70.5,69.5],\n",
    "    [1,0,0,1,1,0,1,0,0,1,1],\n",
    "]\n",
    "\n",
    "y = [3.994,3.208,2.997,4.271,4.872,2.795,5.102,3.519,2.853,4.724,4.070]\n",
    "k = len(x)\n",
    "n = len(y)\n",
    "\n",
    "#verifying data input is correct\n",
    "print(sum([len(x[i])==n for i in range(0, k)]) == k) \n",
    "\n",
    "#squaring this for polynomial shenanigans - SPECIFIC TO WS33\n",
    "x[1] = [x**2 for x in x[1]]"
   ]
  },
  {
   "cell_type": "code",
   "execution_count": 3,
   "metadata": {},
   "outputs": [
    {
     "name": "stdout",
     "output_type": "stream",
     "text": [
      "[b0, b1, ..., bk] = [-0.433, 0.066, 0.001, 0.809]\n"
     ]
    }
   ],
   "source": [
    "#matrix math oh no\n",
    "import numpy as np\n",
    "\n",
    "XT = np.array([[1]*n, *x])\n",
    "X = XT.transpose()\n",
    "\n",
    "invXTX = np.linalg.inv(np.dot(XT,X))\n",
    "XTy = np.dot(XT,y)\n",
    "\n",
    "b = np.dot(invXTX, XTy.transpose())\n",
    "\n",
    "#regression line\n",
    "yh = lambda x : b[0] + sum(b[i+1]*x[i] for i in range(0, k))\n",
    "\n",
    "#beta metrix\n",
    "print ('[b0, b1, ..., bk] =', [round(bi,3) for bi in b])"
   ]
  },
  {
   "cell_type": "code",
   "execution_count": 4,
   "metadata": {},
   "outputs": [
    {
     "name": "stdout",
     "output_type": "stream",
     "text": [
      "SSR = 6.296\n",
      "SST = 6.978\n",
      "SSE = 0.682\n",
      "\n",
      "R^2 = 0.902\n",
      "adjusted R^2 = 0.860\n"
     ]
    }
   ],
   "source": [
    "ybar = sum(y)/len(y)\n",
    "\n",
    "xT = np.array(x).T #this just exists to make the line below nicer\n",
    "SSR = sum([(yh(xT[i]) - ybar)**2 for i in range(0,n)])\n",
    "SST = sum([(yi - ybar)**2 for yi in y])\n",
    "SSE = SST - SSR\n",
    "\n",
    "#R^2 stuff\n",
    "Rsq = SSR/SST\n",
    "Rsqadj = 1 - (SSE/(n-k-1))/(SST/(n-1))\n",
    "\n",
    "#output\n",
    "print ('SSR = {:.3f}\\nSST = {:.3f}\\nSSE = {:.3f}\\n\\nR^2 = {:.3f}\\nadjusted R^2 = {:.3f}'\n",
    "       .format(SSR,SST,SSE,Rsq,Rsqadj))"
   ]
  },
  {
   "cell_type": "code",
   "execution_count": 5,
   "metadata": {},
   "outputs": [
    {
     "name": "stdout",
     "output_type": "stream",
     "text": [
      "H0 : [b1, b2, ..., bk] = 0 => T0 = [0.032578, 2e-06, 3.566384]\n",
      "T0 > 2.364624 = [False, False, True]\n"
     ]
    }
   ],
   "source": [
    "#predictor significance\n",
    "a = 0.05\n",
    "\n",
    "import scipy.stats as sps\n",
    "MSE = SSE/(n-k-1)\n",
    "T0 = lambda j : b[j]/(MSE/invXTX[j][j])**0.5\n",
    "tval = sps.t.ppf(1-a/2, n-k-1)\n",
    "\n",
    "print ('H0 : [b1, b2, ..., bk] = 0 => T0 =', [round(T0(j),6) for j in range(1,k+1)])\n",
    "print ('T0 > {} ='.format(round(tval,6)), [abs(T0(j)) > tval for j in range(1,k+1)])"
   ]
  },
  {
   "cell_type": "code",
   "execution_count": null,
   "metadata": {},
   "outputs": [],
   "source": []
  }
 ],
 "metadata": {
  "kernelspec": {
   "display_name": "Python 3",
   "language": "python",
   "name": "python3"
  },
  "language_info": {
   "codemirror_mode": {
    "name": "ipython",
    "version": 3
   },
   "file_extension": ".py",
   "mimetype": "text/x-python",
   "name": "python",
   "nbconvert_exporter": "python",
   "pygments_lexer": "ipython3",
   "version": "3.8.5"
  }
 },
 "nbformat": 4,
 "nbformat_minor": 4
}
