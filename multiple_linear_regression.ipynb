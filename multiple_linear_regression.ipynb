{
 "cells": [
  {
   "cell_type": "code",
   "execution_count": null,
   "metadata": {},
   "outputs": [],
   "source": [
    "#multiple linear regression, R^2, adjusted R^2, predictor significance, hypothesis testing"
   ]
  },
  {
   "cell_type": "code",
   "execution_count": 6,
   "metadata": {},
   "outputs": [
    {
     "name": "stdout",
     "output_type": "stream",
     "text": [
      "True\n"
     ]
    }
   ],
   "source": [
    "#data in\n",
    "x = [\n",
    "    [3.3,3.7,4,5,5.5,6],\n",
    "    [8,7,9,10,8,10]\n",
    "]\n",
    "\n",
    "y = [4.5,4.7,5.5,5.5,6,6]\n",
    "k = len(x)\n",
    "n = len(y)\n",
    "\n",
    "#verifying data input is correct\n",
    "print(sum([len(x[i])==n for i in range(0, k)]) == k) "
   ]
  },
  {
   "cell_type": "code",
   "execution_count": 20,
   "metadata": {},
   "outputs": [
    {
     "name": "stdout",
     "output_type": "stream",
     "text": [
      "(X^TX)^-1 =\n",
      " [[ 1.   1.   1.   1.   1.   1. ]\n",
      " [ 3.3  3.7  4.   5.   5.5  6. ]\n",
      " [ 8.   7.   9.  10.   8.  10. ]]\n",
      "XTy =\n",
      " [ 32.2  150.74 281.4 ]\n",
      "[b0, b1, ..., bk] = [2.663, 0.52, 0.037]\n"
     ]
    }
   ],
   "source": [
    "#matrix math oh no\n",
    "import numpy as np\n",
    "\n",
    "XT = np.array([[1]*n, *x])\n",
    "X = XT.transpose()\n",
    "\n",
    "invXTX = np.linalg.inv(np.dot(XT,X))\n",
    "XTy = np.dot(XT,y)\n",
    "\n",
    "b = np.dot(invXTX, XTy.transpose())\n",
    "\n",
    "#regression line\n",
    "yh = lambda x : b[0] + sum(b[i+1]*x[i] for i in range(0, k))\n",
    "\n",
    "#matrices\n",
    "print ('(X^TX)^-1 =\\n', XT)\n",
    "print ('XTy =\\n', XTy)\n",
    "print ('[b0, b1, ..., bk] =', [round(bi,3) for bi in b])"
   ]
  },
  {
   "cell_type": "code",
   "execution_count": 8,
   "metadata": {},
   "outputs": [
    {
     "name": "stdout",
     "output_type": "stream",
     "text": [
      "SSR = 1.728\n",
      "SST = 2.033\n",
      "SSE = 0.306\n",
      "\n",
      "R^2 = 0.850\n",
      "adjusted R^2 = 0.750\n"
     ]
    }
   ],
   "source": [
    "ybar = sum(y)/len(y)\n",
    "\n",
    "xT = np.array(x).T #this just exists to make the line below nicer\n",
    "SSR = sum([(yh(xT[i]) - ybar)**2 for i in range(0,n)])\n",
    "SST = sum([(yi - ybar)**2 for yi in y])\n",
    "SSE = SST - SSR\n",
    "\n",
    "#R^2 stuff\n",
    "Rsq = SSR/SST\n",
    "Rsqadj = 1 - (SSE/(n-k-1))/(SST/(n-1))\n",
    "\n",
    "#output\n",
    "print ('SSR = {:.3f}\\nSST = {:.3f}\\nSSE = {:.3f}\\n\\nR^2 = {:.3f}\\nadjusted R^2 = {:.3f}'\n",
    "       .format(SSR,SST,SSE,Rsq,Rsqadj))"
   ]
  },
  {
   "cell_type": "code",
   "execution_count": 16,
   "metadata": {},
   "outputs": [
    {
     "name": "stdout",
     "output_type": "stream",
     "text": [
      "H0 : b1 = b2 = ... = bk = 0 => F0 = 8.481\n",
      "F0 > 5.462383 = True\n"
     ]
    }
   ],
   "source": [
    "#regression significance\n",
    "a = 0.1\n",
    "\n",
    "import scipy.stats as sps\n",
    "F0 = (SSR/k)/(SSE/(n-k-1))\n",
    "fval = sps.f.ppf(1-a,k,n-k-1)\n",
    "\n",
    "print ('H0 : b1 = b2 = ... = bk = 0 => F0 =', round(F0, 3))\n",
    "print ('F0 > {} ='.format(round(fval,6)), F0 > fval)"
   ]
  },
  {
   "cell_type": "code",
   "execution_count": 18,
   "metadata": {},
   "outputs": [
    {
     "name": "stdout",
     "output_type": "stream",
     "text": [
      "H0 : [b1, b2, ..., bk] = 0 => T0 = [3.110235, 0.248113]\n",
      "T0 > 2.353363 = [True, False]\n"
     ]
    }
   ],
   "source": [
    "#predictor significance\n",
    "MSE = SSE/(n-k-1)\n",
    "T0 = lambda j : b[j]/(MSE*invXTX[j][j])**0.5\n",
    "tval = sps.t.ppf(1-a/2, n-k-1)\n",
    "\n",
    "print ('H0 : [b1, b2, ..., bk] = 0 => T0 =', [round(T0(j),6) for j in range(1,k+1)])\n",
    "print ('T0 > {} ='.format(round(tval,6)), [abs(T0(j)) > tval for j in range(1,k+1)])"
   ]
  },
  {
   "cell_type": "code",
   "execution_count": null,
   "metadata": {},
   "outputs": [],
   "source": []
  }
 ],
 "metadata": {
  "kernelspec": {
   "display_name": "Python 3",
   "language": "python",
   "name": "python3"
  },
  "language_info": {
   "codemirror_mode": {
    "name": "ipython",
    "version": 3
   },
   "file_extension": ".py",
   "mimetype": "text/x-python",
   "name": "python",
   "nbconvert_exporter": "python",
   "pygments_lexer": "ipython3",
   "version": "3.8.5"
  }
 },
 "nbformat": 4,
 "nbformat_minor": 4
}
