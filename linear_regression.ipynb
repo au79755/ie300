{
 "cells": [
  {
   "cell_type": "code",
   "execution_count": 1,
   "metadata": {},
   "outputs": [
    {
     "name": "stdout",
     "output_type": "stream",
     "text": [
      "True\n"
     ]
    }
   ],
   "source": [
    "x = [259,295,279,259,299,299,309,289,359,315,310,309,300,369,419,405,375,379,369,458]\n",
    "y = [4917,5020,4542,4557,5059,3891,5898,5604,5828,5303,6271,5959,5050,8242,6699,7784,5989,7542,8140,9141]\n",
    "n = len(x)\n",
    "\n",
    "#check input\n",
    "print (len(y)==n)\n",
    "\n",
    "x = [i*1000 for i in x]"
   ]
  },
  {
   "cell_type": "code",
   "execution_count": 8,
   "metadata": {},
   "outputs": [
    {
     "name": "stdout",
     "output_type": "stream",
     "text": [
      "sumx = 6655000\n",
      "sumy = 121436\n",
      "sumxx = 2272457000000\n",
      "sumxy = 41678240000\n",
      "\n",
      "b0 = -1215.9130327596831\n",
      "b1 = 0.0219014666649427\n"
     ]
    }
   ],
   "source": [
    "sumx = sum(x)\n",
    "sumy = sum(y)\n",
    "sumxx = sum([xi*xi for xi in x])\n",
    "sumxy = sum([x[i]*y[i] for i in range(0,n)])\n",
    "xbar = sumx/n\n",
    "ybar = sumy/n\n",
    "\n",
    "b1 = (n*sumxy - sumx*sumy)/(n*sumxx - sumx**2)\n",
    "b0 = ybar - b1*xbar\n",
    "\n",
    "print('sumx = {}\\nsumy = {}\\nsumxx = {}\\nsumxy = {}\\n\\nb0 = {}\\nb1 = {}'\n",
    "     .format(sumx, sumy, sumxx, sumxy, b0, b1))"
   ]
  },
  {
   "cell_type": "code",
   "execution_count": 10,
   "metadata": {},
   "outputs": [
    {
     "name": "stdout",
     "output_type": "stream",
     "text": [
      "Linear Regression Line: y = -1215.913 + 0.022x\n"
     ]
    }
   ],
   "source": [
    "yh = lambda x : b0 + b1*x\n",
    "print('Linear Regression Line: y = {:.3f} + {:.3f}x'.format(b0, b1))"
   ]
  },
  {
   "cell_type": "code",
   "execution_count": 16,
   "metadata": {},
   "outputs": [
    {
     "name": "stdout",
     "output_type": "stream",
     "text": [
      "Sxx = 58005750000.000\n",
      "Sxy = 1270411000.000\n",
      "SSE = 10929117.033\n",
      "sigma^2 = 779.2131726842392\n"
     ]
    }
   ],
   "source": [
    "#noise standard deviation\n",
    "Sxx = sum([(xi-xbar)**2 for xi in x])\n",
    "Sxy = sum((x[i]-xbar)*(y[i]-ybar) for i in range(0,n))\n",
    "SSE = sum([(y[i] - yh(x[i]))**2 for i in range(0,n)])\n",
    "\n",
    "print ('Sxx = {:.3f}\\nSxy = {:.3f}\\nSSE = {:.3f}'.format(Sxx, Sxy, SSE))\n",
    "\n",
    "MSE = SSE/(n-2)\n",
    "sigma = MSE**0.5\n",
    "print ('sigma^2 =', sigma)"
   ]
  },
  {
   "cell_type": "code",
   "execution_count": 20,
   "metadata": {},
   "outputs": [
    {
     "name": "stdout",
     "output_type": "stream",
     "text": [
      "T0 = 6.769 > 2.101 = t_{n-2}\n",
      "Reject/Is regression significant? =  True\n"
     ]
    }
   ],
   "source": [
    "#regression significance\n",
    "a = 0.05\n",
    "\n",
    "import scipy.stats as sps\n",
    "T0 = b1/(MSE/Sxx)**0.5\n",
    "tval = sps.t.ppf(1-a/2,n-2)\n",
    "print('T0 =', round(T0,3), '>', round(tval,3), '= t_{n-2}')\n",
    "print('Reject/Is regression significant? = ', T0 > tval)"
   ]
  },
  {
   "cell_type": "code",
   "execution_count": null,
   "metadata": {},
   "outputs": [],
   "source": []
  }
 ],
 "metadata": {
  "kernelspec": {
   "display_name": "Python 3",
   "language": "python",
   "name": "python3"
  },
  "language_info": {
   "codemirror_mode": {
    "name": "ipython",
    "version": 3
   },
   "file_extension": ".py",
   "mimetype": "text/x-python",
   "name": "python",
   "nbconvert_exporter": "python",
   "pygments_lexer": "ipython3",
   "version": "3.8.5"
  }
 },
 "nbformat": 4,
 "nbformat_minor": 4
}
