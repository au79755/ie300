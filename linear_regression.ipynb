{
 "cells": [
  {
   "cell_type": "code",
   "execution_count": 1,
   "metadata": {},
   "outputs": [
    {
     "name": "stdout",
     "output_type": "stream",
     "text": [
      "True\n"
     ]
    }
   ],
   "source": [
    "#data in\n",
    "x= [100,160,20,90,40,20,90,100,15]\n",
    "y = [4,10,6,11,6,6,10,10,6]\n",
    "n = len(x)\n",
    "\n",
    "#check input\n",
    "print (len(y)==n)"
   ]
  },
  {
   "cell_type": "code",
   "execution_count": 2,
   "metadata": {},
   "outputs": [
    {
     "name": "stdout",
     "output_type": "stream",
     "text": [
      "sumx = 635\n",
      "sumy = 69\n",
      "sumxx = 64425\n",
      "sumxy = 5460\n",
      "\n",
      "b0 = 5.539212910532276\n",
      "b1 = 0.030152887882219707\n"
     ]
    }
   ],
   "source": [
    "#intermediate steps\n",
    "sumx = sum(x)\n",
    "sumy = sum(y)\n",
    "sumxx = sum([xi*xi for xi in x])\n",
    "sumxy = sum([x[i]*y[i] for i in range(0,n)])\n",
    "xbar = sumx/n\n",
    "ybar = sumy/n\n",
    "\n",
    "b1 = (n*sumxy - sumx*sumy)/(n*sumxx - sumx**2)\n",
    "b0 = ybar - b1*xbar\n",
    "\n",
    "print('sumx = {}\\nsumy = {}\\nsumxx = {}\\nsumxy = {}\\n\\nb0 = {}\\nb1 = {}'\n",
    "     .format(sumx, sumy, sumxx, sumxy, b0, b1))"
   ]
  },
  {
   "cell_type": "code",
   "execution_count": 3,
   "metadata": {},
   "outputs": [
    {
     "name": "stdout",
     "output_type": "stream",
     "text": [
      "Linear Regression Line: y = 5.539 + 0.030x\n"
     ]
    }
   ],
   "source": [
    "#output line equation in semi-readable format\n",
    "yh = lambda x : b0 + b1*x\n",
    "print('Linear Regression Line: y = {:.3f} + {:.3f}x'.format(b0, b1))"
   ]
  },
  {
   "cell_type": "code",
   "execution_count": 4,
   "metadata": {},
   "outputs": [
    {
     "name": "stdout",
     "output_type": "stream",
     "text": [
      "Sxx = 19622.222\n",
      "Sxy = 591.667\n",
      "SSE = 34.160\n",
      "sigma^2 = 2.2090573728678717\n"
     ]
    }
   ],
   "source": [
    "#noise standard deviation\n",
    "Sxx = sum([(xi-xbar)**2 for xi in x])\n",
    "Sxy = sum((x[i]-xbar)*(y[i]-ybar) for i in range(0,n))\n",
    "SSE = sum([(y[i] - yh(x[i]))**2 for i in range(0,n)])\n",
    "\n",
    "print ('Sxx = {:.3f}\\nSxy = {:.3f}\\nSSE = {:.3f}'.format(Sxx, Sxy, SSE))\n",
    "\n",
    "MSE = SSE/(n-2)\n",
    "sigma = MSE**0.5\n",
    "print ('sigma^2 =', sigma)"
   ]
  },
  {
   "cell_type": "code",
   "execution_count": 5,
   "metadata": {},
   "outputs": [
    {
     "name": "stdout",
     "output_type": "stream",
     "text": [
      "T0 = 1.912 > 2.365 = t_{n-2}\n",
      "Reject/Is regression significant? =  False\n"
     ]
    }
   ],
   "source": [
    "#regression significance\n",
    "a = 0.05\n",
    "\n",
    "import scipy.stats as sps\n",
    "T0 = b1/(MSE/Sxx)**0.5\n",
    "tval = sps.t.ppf(1-a/2,n-2)\n",
    "print('T0 =', round(T0,3), '>', round(tval,3), '= t_{n-2}')\n",
    "print('Reject/Is regression significant? = ', T0 > tval)"
   ]
  },
  {
   "cell_type": "code",
   "execution_count": 6,
   "metadata": {},
   "outputs": [
    {
     "name": "stdout",
     "output_type": "stream",
     "text": [
      "P value = 0.097\n"
     ]
    }
   ],
   "source": [
    "#p value\n",
    "P = 2*(sps.t.sf(abs(T0),n-2))\n",
    "print('P value =', round(P,3))"
   ]
  },
  {
   "cell_type": "code",
   "execution_count": 8,
   "metadata": {},
   "outputs": [
    {
     "data": {
      "image/png": "[encoded data removed]",
      "text/plain": [
       "<Figure size 432x288 with 1 Axes>"
      ]
     },
     "metadata": {
      "needs_background": "light"
     },
     "output_type": "display_data"
    }
   ],
   "source": [
    "#plotting because that's fun\n",
    "import matplotlib.pyplot as plt\n",
    "fig, ax = plt.subplots()\n",
    "ax.plot(x,y,'bo',linewidth=0)\n",
    "\n",
    "import numpy as np\n",
    "tx = np.linspace(min(x), max(x), 2)\n",
    "ty = [yh(x) for x in tx]\n",
    "ax.plot(tx, ty, 'r')\n",
    "ax.set_xlabel('x')\n",
    "ax.set_ylabel('y')\n",
    "ax.set_title('Plot')\n",
    "plt.show()"
   ]
  },
  {
   "cell_type": "code",
   "execution_count": null,
   "metadata": {},
   "outputs": [],
   "source": []
  }
 ],
 "metadata": {
  "kernelspec": {
   "display_name": "Python 3",
   "language": "python",
   "name": "python3"
  },
  "language_info": {
   "codemirror_mode": {
    "name": "ipython",
    "version": 3
   },
   "file_extension": ".py",
   "mimetype": "text/x-python",
   "name": "python",
   "nbconvert_exporter": "python",
   "pygments_lexer": "ipython3",
   "version": "3.8.5"
  }
 },
 "nbformat": 4,
 "nbformat_minor": 4
}
